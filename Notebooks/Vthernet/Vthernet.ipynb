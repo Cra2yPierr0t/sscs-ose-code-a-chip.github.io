{
 "cells": [
  {
   "cell_type": "markdown",
   "id": "0c228474",
   "metadata": {},
   "source": [
    ":toc"
   ]
  },
  {
   "cell_type": "markdown",
   "id": "31c1aa0e",
   "metadata": {},
   "source": [
    "## Install dependencies"
   ]
  },
  {
   "cell_type": "code",
   "execution_count": null,
   "id": "3ccbbf84",
   "metadata": {},
   "outputs": [],
   "source": [
    "import os\n",
    "import pathlib\n",
    "import sys\n",
    "\n",
    "!curl -Ls https://micro.mamba.pm/api/micromamba/linux-64/latest | tar -xvj bin/micromamba\n",
    "conda_prefix_path = pathlib.Path('conda-env')\n",
    "site_package_path = conda_prefix_path / 'lib/python3.7/site-packages'\n",
    "sys.path.append(str(site_package_path.resolve()))\n",
    "CONDA_PREFIX = str(conda_prefix_path.resolve())\n",
    "PATH = os.environ['PATH']\n",
    "LD_LIBRARY_PATH = os.environ.get('LD_LIBRARY_PATH', '')\n",
    "%env CONDA_PREFIX={CONDA_PREFIX}\n",
    "%env PATH={CONDA_PREFIX}/bin:{PATH}\n",
    "%env LD_LIBRARY_PATH={CONDA_PREFIX}/lib:{LD_LIBRARY_PATH}\n",
    "!bin/micromamba create --yes --prefix $CONDA_PREFIX\n",
    "!echo 'python ==3.7*' >> {CONDA_PREFIX}/conda-meta/pinned\n",
    "!bin/micromamba install --yes --prefix $CONDA_PREFIX \\\n",
    "                        --channel litex-hub \\\n",
    "                        --channel main \\\n",
    "                        open_pdks.sky130a \\\n",
    "                        magic \\\n",
    "                        openroad \\\n",
    "                        netgen \\\n",
    "                        yosys \\\n",
    "                        verilator\n",
    "!bin/micromamba install --yes --prefix $CONDA_PREFIX \\\n",
    "                        --channel conda-forge \\\n",
    "                        tcllib gdstk pyyaml click"
   ]
  },
  {
   "cell_type": "markdown",
   "id": "97719105",
   "metadata": {},
   "source": [
    "## make directories"
   ]
  },
  {
   "cell_type": "code",
   "execution_count": 2,
   "id": "d3a079bb",
   "metadata": {},
   "outputs": [],
   "source": [
    "%mkdir rtl\n",
    "%mkdir data\n",
    "%mkdir tb\n",
    "%mkdir util"
   ]
  },
  {
   "cell_type": "markdown",
   "id": "501f2c7b",
   "metadata": {},
   "source": [
    "## Write Verilog"
   ]
  },
  {
   "cell_type": "markdown",
   "id": "8c50b6fc",
   "metadata": {},
   "source": [
    "- Vthernet.v : top module\n",
    "- Vthernet_RX_MAC.v : Receive MAC\n",
    "- Vthernet_TX_MAC.v : Transmission MAC\n"
   ]
  },
  {
   "cell_type": "markdown",
   "id": "411b5a0d",
   "metadata": {},
   "source": [
    "### Vthernet.v"
   ]
  },
  {
   "cell_type": "code",
   "execution_count": 3,
   "id": "46c48b85",
   "metadata": {
    "scrolled": false
   },
   "outputs": [
    {
     "name": "stdout",
     "output_type": "stream",
     "text": [
      "Writing rtl/Vthernet.v\n"
     ]
    }
   ],
   "source": [
    "%%writefile rtl/Vthernet.v\n",
    "`default_nettype none\n",
    "module Vthernet (\n",
    "    input   wire        rst,\n",
    "    input   wire        clk,\n",
    "\n",
    "    // GMII interface\n",
    "    output  reg         GTX_CLK,\n",
    "    output  reg         TX_EN,\n",
    "    output  reg [7:0]   TXD,\n",
    "    output  reg         TX_ER,\n",
    "\n",
    "    input   wire        RX_CLK,\n",
    "    input   wire        RX_DV,\n",
    "    input   wire [7:0]  RXD,\n",
    "    input   wire        RX_ER,\n",
    "\n",
    "    output  reg         MDC,\n",
    "    inout   reg         MDIO\n",
    ");\n",
    "\n",
    "    // Wishbone interface\n",
    "    wire        wb_clk_i;\n",
    "    wire        wb_rst_i;\n",
    "    wire        wbs_stb_i;\n",
    "    wire        wbs_cyc_i;\n",
    "    wire        wbs_we_i;\n",
    "    wire  [3:0] wbs_sel_i;\n",
    "    wire [31:0] wbs_dat_i;\n",
    "    wire [31:0] wbs_adr_i;\n",
    "    wire        wbs_ack_o;\n",
    "    wire [31:0] wbs_dat_o;\n",
    "    \n",
    "    Vthernet_RX_MAC Vthernet_RX_MAC(\n",
    "        .rst(rst),\n",
    "        .clk(clk),\n",
    "        \n",
    "        // CSRs\n",
    "        .my_mac_addr(),\n",
    "        .ethernet_len_type(),\n",
    "        .dst_mac_addr(),\n",
    "        .src_mac_addr(),\n",
    "        \n",
    "        // CPU interface\n",
    "        .rx_irq(),\n",
    "        \n",
    "        // GMII interface\n",
    "        .RX_CLK(RX_CLK),\n",
    "        .RX_DV(RX_DV),\n",
    "        .RXD(RXD),\n",
    "        .RX_ER(RX_ER),\n",
    "        \n",
    "        // Memory interface\n",
    "        .rx_mem_wen(),\n",
    "        .rx_mem_data(),\n",
    "        .rx_mem_addr()\n",
    "    );\n",
    "    \n",
    "    Vthernet_TX_MAC Vthernet_TX_MAC(\n",
    "        // CSRs\n",
    "        // Write Only\n",
    "        .my_mac_addr(),\n",
    "        // Read Only\n",
    "        // GMII interface\n",
    "        .GTX_CLK(GTX_CLK),\n",
    "        .TX_EN(TX_EN),\n",
    "        .TXD(TXD),\n",
    "        .TX_ER(TX_ER),\n",
    "        // Memory interface\n",
    "        .tx_mem_valid(),\n",
    "        .tx_mem_data()\n",
    "    );\n",
    "endmodule\n",
    "`default_nettype wire"
   ]
  },
  {
   "cell_type": "markdown",
   "id": "98cdd0f3",
   "metadata": {},
   "source": [
    "### Vthernet_RX_MAC.v"
   ]
  },
  {
   "cell_type": "code",
   "execution_count": 4,
   "id": "38befd82",
   "metadata": {},
   "outputs": [
    {
     "name": "stdout",
     "output_type": "stream",
     "text": [
      "Overwriting rtl/Vthernet_RX_MAC.v\n"
     ]
    }
   ],
   "source": [
    "%%writefile rtl/Vthernet_RX_MAC.v\n",
    "//\n",
    "//  ethernet --- IP ---- UDP\n",
    "//            |       |\n",
    "//            -- ARP  -- TCP\n",
    "//\n",
    "\n",
    "`default_nettype none\n",
    "module Vthernet_RX_MAC (\n",
    "    input   wire        rst,\n",
    "    input   wire        clk,\n",
    "    \n",
    "    // CSRs\n",
    "    input wire [47:0] \n",
    "\n",
    "    // GMII interface\n",
    "    input   wire        RX_CLK,\n",
    "    input   wire        RX_DV,\n",
    "    input   wire [7:0]  RXD,\n",
    "    input   wire        RX_ER,\n",
    "\n",
    "    // CPU interface\n",
    "    output  wire        rx_irq,\n",
    "\n",
    "    // Memory interface\n",
    "    output  wire        rx_mem_wen,\n",
    "    output  wire [7:0]  rx_mem_data,\n",
    "    output  reg [31:0]  rx_mem_addr\n",
    ");\n",
    "    parameter OCT   = 8;\n",
    "    parameter PRE   = 8'b10101010;\n",
    "    parameter SFD   = 8'b10101011;\n",
    "    parameter IPV4  = 16'h0800;\n",
    "\n",
    "    // Vthernet CSR\n",
    "    wire [OCT*4-1:0] offload_csr;\n",
    "    \n",
    "    wire [OCT*6-1:0] mac_addr;\n",
    "\n",
    "    wire [OCT*6-1:0] rx_src_mac;\n",
    "\n",
    "    wire [OCT*2-1:0] rx_ethernet_len_type;\n",
    "\n",
    "    // RX Memory logic\n",
    "\n",
    "    always @(posedge RX_CLK) begin\n",
    "        if(rst) begin\n",
    "            rx_addr <= 32'h0000_0000;\n",
    "        end else begin\n",
    "            if(rx_data_v) begin\n",
    "                rx_addr <= rx_addr + 32'h0000_0001;\n",
    "            end else begin\n",
    "                rx_addr <= 32'h0000_0000;\n",
    "            end\n",
    "        end\n",
    "    end\n",
    "\n",
    "    // SMI logic\n",
    "    // transmit logic\n",
    "    // receive logic\n",
    "    wire                rx_ethernet_data_v;\n",
    "    wire    [OCT-1:0]   rx_ethernet_data;\n",
    "    wire                rx_ipv4_data_v;\n",
    "    wire    [OCT-1:0]   rx_ipv4_data;\n",
    "    wire                rx_udp_data_v;\n",
    "    wire    [OCT-1:0]   rx_udp_data;\n",
    "\n",
    "    // receive irq signal\n",
    "    wire                rx_ethernet_irq;\n",
    "    wire                rx_ipv4_irq;\n",
    "    wire                rx_udp_irq;\n",
    "    assign rx_irq = (&offload_csr[1:0]) ? rx_udp_irq : \n",
    "                      offload_csr[0]    ? rx_ipv4_irq \n",
    "                                        : rx_ethernet_irq;\n",
    "    assign rx_data_v = (&offload_csr[1:0]) ? rx_udp_data_v :\n",
    "                         offload_csr[0]    ? rx_ipv4_data_v\n",
    "                                           : rx_ethernet_data_v;\n",
    "    assign rx_data  = (&offload_csr[1:0]) ? rx_udp_data :\n",
    "                         offload_csr[0]   ? rx_ipv4_data\n",
    "                                          : rx_ethernet_data;\n",
    "\n",
    "    rx_ethernet #(\n",
    "        .OCT    (OCT    ),\n",
    "        .PRE    (PRE    ),\n",
    "        .SFD    (SFD    ),\n",
    "        .IPV4   (IPV4   )\n",
    "    ) rx_ethernet_inst(\n",
    "        .rst            (rst        ),\n",
    "        .mac_addr       (mac_addr   ),\n",
    "        .rx_ethernet_irq(rx_ethernet_irq   ),\n",
    "        .rx_src_mac     (rx_src_mac ),\n",
    "        .rx_len_type    (rx_ethernet_len_type   ),\n",
    "        .RX_CLK         (RX_CLK     ),\n",
    "        .RX_DV          (RX_DV      ),\n",
    "        .RXD            (RXD        ),\n",
    "        .RX_ER          (RX_ER      ),\n",
    "        .rx_ethernet_data_v (rx_ethernet_data_v ),\n",
    "        .rx_ethernet_data   (rx_ethernet_data   )\n",
    "    );\n",
    "\n",
    "endmodule\n",
    "`default_nettype wire"
   ]
  },
  {
   "cell_type": "markdown",
   "id": "8bbb62ee",
   "metadata": {},
   "source": [
    "## Write Testbench"
   ]
  },
  {
   "cell_type": "code",
   "execution_count": null,
   "id": "dc9e7874",
   "metadata": {},
   "outputs": [],
   "source": []
  },
  {
   "cell_type": "markdown",
   "id": "94bda563",
   "metadata": {},
   "source": [
    "## Install OpenLANE"
   ]
  },
  {
   "cell_type": "code",
   "execution_count": 3,
   "id": "bdbadb1a",
   "metadata": {},
   "outputs": [
    {
     "name": "stdout",
     "output_type": "stream",
     "text": [
      "Cloning into 'OpenLane'...\n",
      "remote: Enumerating objects: 502, done.\u001b[K\n",
      "remote: Counting objects: 100% (502/502), done.\u001b[K\n",
      "remote: Compressing objects: 100% (421/421), done.\u001b[K\n",
      "remote: Total 502 (delta 75), reused 284 (delta 33), pack-reused 0\u001b[K\n",
      "Receiving objects: 100% (502/502), 3.34 MiB | 6.07 MiB/s, done.\n",
      "Resolving deltas: 100% (75/75), done.\n"
     ]
    }
   ],
   "source": [
    "!git clone --depth=1 https://github.com/The-OpenROAD-Project/OpenLane"
   ]
  },
  {
   "cell_type": "code",
   "execution_count": null,
   "id": "e0c679f1",
   "metadata": {},
   "outputs": [],
   "source": []
  }
 ],
 "metadata": {
  "kernelspec": {
   "display_name": "Python 3 (ipykernel)",
   "language": "python",
   "name": "python3"
  },
  "language_info": {
   "codemirror_mode": {
    "name": "ipython",
    "version": 3
   },
   "file_extension": ".py",
   "mimetype": "text/x-python",
   "name": "python",
   "nbconvert_exporter": "python",
   "pygments_lexer": "ipython3",
   "version": "3.10.7"
  }
 },
 "nbformat": 4,
 "nbformat_minor": 5
}
